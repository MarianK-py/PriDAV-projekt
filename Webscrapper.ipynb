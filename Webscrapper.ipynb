{
 "cells": [
  {
   "cell_type": "code",
   "execution_count": 2,
   "id": "4c5d257f-0cf1-4b10-b316-0f7486a101a2",
   "metadata": {},
   "outputs": [],
   "source": [
    "import requests\n",
    "import urllib.request\n",
    "import os\n",
    "from bs4 import BeautifulSoup"
   ]
  },
  {
   "cell_type": "markdown",
   "id": "26b37428-25df-47de-a22d-9dcc3eb5da90",
   "metadata": {},
   "source": [
    "### Katedra aplikovanej informatiky"
   ]
  },
  {
   "cell_type": "code",
   "execution_count": 45,
   "id": "0eac4999-1bdf-4557-a016-1b2aa534ad07",
   "metadata": {},
   "outputs": [
    {
     "name": "stdout",
     "output_type": "stream",
     "text": [
      "1 2 3 4 5 6 7 8 9 10 11 12 13 14 15 16 17 18 19 20 21 22 23 24 25 26 27 28 29 30 31 32 33 34 35 36 37 40 41 42 43 44 47 48 49 50 51 52 53 54 55 56 57 58 59 60 61 62 63 75 76 80 "
     ]
    }
   ],
   "source": [
    "baseUrl = \"https://dai.fmph.uniba.sk\"\n",
    "vsetci = \"/w/People/sk\"\n",
    "kat = \"DAI\"\n",
    "small = kat+\"/small\"\n",
    "big = kat+\"/big\"\n",
    "\n",
    "try:\n",
    "    os.mkdir(kat)\n",
    "    os.mkdir(small)\n",
    "    os.mkdir(big)\n",
    "except:\n",
    "    print(\"Problem, asi uz existujuca zlozka\")\n",
    "    \n",
    "def getImages(clovek, meno):\n",
    "    personPage = requests.get(baseUrl+clovek).text\n",
    "    personParsed = BeautifulSoup(personPage, \"html.parser\")\n",
    "    \n",
    "    temp = personParsed.select(\"div#mw-content-text table a.image\")\n",
    "    #print(temp)\n",
    "    if temp != []:\n",
    "        for i in temp:\n",
    "            if i[\"title\"] != \"@\":\n",
    "                img = i.select(\"img\")[0][\"src\"]\n",
    "                imgData = requests.get(baseUrl+img)\n",
    "                f = open(small+\"/\"+meno+\".jpg\", \"wb\")\n",
    "                f.write(imgData.content)\n",
    "                f.close()\n",
    "                #print(i, img)\n",
    "                getBigImage(i[\"href\"], meno)\n",
    "    else:\n",
    "        print(\"Pri\", meno, \"sa vyskytol problem s obrazkami\")\n",
    "\n",
    "def getBigImage(clovek, meno):\n",
    "    personPage = requests.get(baseUrl+clovek).text\n",
    "    personParsed = BeautifulSoup(personPage, \"html.parser\")\n",
    "    \n",
    "    temp = personParsed.select(\"div.fullImageLink img\")\n",
    "    #print(temp)\n",
    "    if temp != []:\n",
    "        img = temp[0][\"src\"]\n",
    "        imgData = requests.get(baseUrl+img)\n",
    "        f = open(big+\"/\"+meno+\".jpg\", \"wb\")\n",
    "        f.write(imgData.content)\n",
    "        f.close()\n",
    "    else:\n",
    "        print(\"Pri\", meno, \"sa vyskytol problem s velkym obrazkom\")\n",
    "        \n",
    "    \n",
    "basePage = requests.get(baseUrl+vsetci).text\n",
    "baseParsed = BeautifulSoup(basePage, \"html.parser\")\n",
    "\n",
    "links = baseParsed.select(\"table a\")\n",
    "for i, clovek in enumerate(links):\n",
    "    href = clovek[\"href\"]\n",
    "    if href[:3] == \"/w/\":\n",
    "        getImages(href, clovek[\"title\"])\n",
    "        #print(href, clovek[\"title\"])\n",
    "        print(i, end=\" \")\n",
    "        ...\n",
    "        \n",
    "\n",
    "#clovek = \"/w/Igor_Farkas\"\n",
    "#meno = \"Igor Farkaš\"\n",
    "#getImages(clovek, meno)\n",
    "\n",
    "#clovek = \"/w/Tomas_Vinar\"\n",
    "#meno = \"Tomáš Vinař\"\n",
    "#getImages(clovek, meno)\n",
    "\n",
    "#getImages(\"/w/Tatiana_Jajcayova\", \"Tatiana Jajcayova\")"
   ]
  },
  {
   "cell_type": "markdown",
   "id": "0eb28fe9-008f-4779-8356-820305057227",
   "metadata": {},
   "source": [
    "### Computational biology"
   ]
  },
  {
   "cell_type": "code",
   "execution_count": 48,
   "id": "261a80cb-515b-4c61-bb8d-5c8be3a33873",
   "metadata": {},
   "outputs": [
    {
     "name": "stdout",
     "output_type": "stream",
     "text": [
      "Problem, asi uz existujuca zlozka\n",
      "1 3 5 7 9 11 13 15 19 86 Pri Ján Hozza sa vyskytol problem s obrazkami\n",
      "98 Pri Michal Nánási sa vyskytol problem s obrazkami\n",
      "110 118 138 146 148 Pri Ladislav Rampášek sa vyskytol problem s obrazkami\n",
      "150 172 Pri Michal Nánási sa vyskytol problem s obrazkami\n",
      "176 Pri Ladislav Rampášek sa vyskytol problem s obrazkami\n",
      "178 180 182 "
     ]
    }
   ],
   "source": [
    "baseUrl = \"http://compbio.fmph.uniba.sk/people.php\"\n",
    "kat = \"COMPBIO\"\n",
    "\n",
    "try:\n",
    "    os.mkdir(kat)\n",
    "except:\n",
    "    print(\"Problem, asi uz existujuca zlozka\")\n",
    "    \n",
    "def getImages(clovek, meno):\n",
    "    clovekPage = requests.get(clovek).text\n",
    "    clovekParsed = BeautifulSoup(clovekPage, \"html.parser\")\n",
    "    imgs = clovekParsed.select(\"img\")\n",
    "    if imgs != []:\n",
    "        for im in imgs:\n",
    "            img = im[\"src\"]\n",
    "            try:\n",
    "                imgData = requests.get(clovek+img)\n",
    "                f = open(kat+\"/\"+meno+\".jpg\", \"wb\")\n",
    "                f.write(imgData.content)\n",
    "                f.close()\n",
    "            except:\n",
    "                print(\"Something went terribly wrong with\", \n",
    "                      meno, \n",
    "                      \"and  i don't know why. Please forgot everythong about this person\")\n",
    "    else:\n",
    "        print(\"Pri\", meno, \"sa vyskytol problem s obrazkami\")\n",
    "\n",
    "basePage = requests.get(baseUrl).text\n",
    "baseParsed = BeautifulSoup(basePage, \"html.parser\")\n",
    "\n",
    "links = baseParsed.select(\"table tr\")\n",
    "for i, subLink in enumerate(links):\n",
    "    clovek = subLink.select(\"td\")[0].select(\"a\")\n",
    "    if clovek != []:\n",
    "        clovek = clovek[0]\n",
    "        href = clovek[\"href\"]\n",
    "        getImages(href, clovek.text)\n",
    "        #print(href, clovek.text)\n",
    "        print(i, end=\" \")\n",
    "        ..."
   ]
  }
 ],
 "metadata": {
  "kernelspec": {
   "display_name": "Python 3 (ipykernel)",
   "language": "python",
   "name": "python3"
  },
  "language_info": {
   "codemirror_mode": {
    "name": "ipython",
    "version": 3
   },
   "file_extension": ".py",
   "mimetype": "text/x-python",
   "name": "python",
   "nbconvert_exporter": "python",
   "pygments_lexer": "ipython3",
   "version": "3.10.7"
  }
 },
 "nbformat": 4,
 "nbformat_minor": 5
}
